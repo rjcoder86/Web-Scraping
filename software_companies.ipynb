{
 "cells": [
  {
   "cell_type": "code",
   "execution_count": 1,
   "id": "23df7581",
   "metadata": {},
   "outputs": [],
   "source": [
    "from bs4 import BeautifulSoup\n",
    "import requests"
   ]
  },
  {
   "cell_type": "code",
   "execution_count": 15,
   "id": "3e26c8ac",
   "metadata": {},
   "outputs": [],
   "source": [
    "# url of site\n",
    "url=\"https://www.thesoftwarereport.com/the-top-100-software-companies-of-2021/\""
   ]
  },
  {
   "cell_type": "code",
   "execution_count": 16,
   "id": "11eef90e",
   "metadata": {},
   "outputs": [
    {
     "data": {
      "text/plain": [
       "200"
      ]
     },
     "execution_count": 16,
     "metadata": {},
     "output_type": "execute_result"
    }
   ],
   "source": [
    "r=requests.get(url,'html.parser')\n",
    "r.status_code #checking status code ..should be in between 200-299"
   ]
  },
  {
   "cell_type": "code",
   "execution_count": 17,
   "id": "7832aef4",
   "metadata": {},
   "outputs": [],
   "source": [
    "soup=BeautifulSoup(r.content)  "
   ]
  },
  {
   "cell_type": "code",
   "execution_count": 18,
   "id": "a48499e3",
   "metadata": {},
   "outputs": [],
   "source": [
    "content=[] "
   ]
  },
  {
   "cell_type": "code",
   "execution_count": 51,
   "id": "4f8047c7",
   "metadata": {},
   "outputs": [],
   "source": [
    "x=soup.find_all('strong')\n",
    "for i in x:\n",
    "    for j in i.find_all('a'):\n",
    "        content.append(j.text)"
   ]
  },
  {
   "cell_type": "code",
   "execution_count": 52,
   "id": "c56fbef7",
   "metadata": {},
   "outputs": [
    {
     "data": {
      "text/plain": [
       "['Microsoft',\n",
       " 'Adobe',\n",
       " 'ServiceNow',\n",
       " 'Dropbox',\n",
       " 'IFS',\n",
       " 'Secureworks',\n",
       " 'Vertafore',\n",
       " 'Procore',\n",
       " 'Autodesk',\n",
       " 'Intuit',\n",
       " 'Altimetrik',\n",
       " 'Workday',\n",
       " 'Salesforce',\n",
       " 'BlackLine',\n",
       " 'Cisco Systems',\n",
       " 'Nintex',\n",
       " 'Twilio',\n",
       " 'Zoho',\n",
       " 'Atlassian',\n",
       " ' VMware',\n",
       " 'Shopify',\n",
       " 'Cloudflare',\n",
       " 'MURAL',\n",
       " 'Stack Overflow',\n",
       " 'Imply',\n",
       " 'Hootsuite',\n",
       " 'airSlate',\n",
       " 'Iterable',\n",
       " 'Pipedrive',\n",
       " 'Fivetran',\n",
       " 'Absolute Software',\n",
       " 'Mapbox',\n",
       " 'Sendinblue',\n",
       " 'Alida',\n",
       " 'FiscalNote',\n",
       " 'QGenda',\n",
       " 'Articulate',\n",
       " 'Namely',\n",
       " 'Grammarly',\n",
       " 'Kibo',\n",
       " 'Panopto',\n",
       " 'Notarize',\n",
       " 'Influitive',\n",
       " 'vcita',\n",
       " 'Visual Lease',\n",
       " 'Widen',\n",
       " 'WhereScape ',\n",
       " 'General Global Assistance',\n",
       " 'CloudPay',\n",
       " 'FourKites']"
      ]
     },
     "execution_count": 52,
     "metadata": {},
     "output_type": "execute_result"
    }
   ],
   "source": [
    "content"
   ]
  }
 ],
 "metadata": {
  "kernelspec": {
   "display_name": "Python 3 (ipykernel)",
   "language": "python",
   "name": "python3"
  },
  "language_info": {
   "codemirror_mode": {
    "name": "ipython",
    "version": 3
   },
   "file_extension": ".py",
   "mimetype": "text/x-python",
   "name": "python",
   "nbconvert_exporter": "python",
   "pygments_lexer": "ipython3",
   "version": "3.10.3"
  }
 },
 "nbformat": 4,
 "nbformat_minor": 5
}
